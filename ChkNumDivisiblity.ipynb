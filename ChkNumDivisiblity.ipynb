{
 "cells": [
  {
   "cell_type": "code",
   "execution_count": 4,
   "metadata": {},
   "outputs": [
    {
     "name": "stdout",
     "output_type": "stream",
     "text": [
      "Enter num 2\n",
      "Enter num 1\n",
      "Yes! It is Divisible\n"
     ]
    }
   ],
   "source": [
    "#check if number divisible by zero:\n",
    "def multiple(m, n):\n",
    "\treturn \"Yes! It is Divisible\" if m % n == 0 else \"No! It is not Divisible\"\n",
    "m = int(input(\"Enter num \"))\n",
    "n = int(input(\"Enter num \"))\n",
    "print(multiple(m,n))"
   ]
  },
  {
   "cell_type": "code",
   "execution_count": null,
   "metadata": {},
   "outputs": [],
   "source": []
  }
 ],
 "metadata": {
  "kernelspec": {
   "display_name": "Python 3",
   "language": "python",
   "name": "python3"
  },
  "language_info": {
   "codemirror_mode": {
    "name": "ipython",
    "version": 3
   },
   "file_extension": ".py",
   "mimetype": "text/x-python",
   "name": "python",
   "nbconvert_exporter": "python",
   "pygments_lexer": "ipython3",
   "version": "3.7.3"
  }
 },
 "nbformat": 4,
 "nbformat_minor": 2
}
