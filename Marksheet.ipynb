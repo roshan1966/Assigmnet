{
 "cells": [
  {
   "cell_type": "code",
   "execution_count": 1,
   "metadata": {},
   "outputs": [],
   "source": [
    "total_marks = 500"
   ]
  },
  {
   "cell_type": "code",
   "execution_count": 14,
   "metadata": {},
   "outputs": [
    {
     "name": "stdout",
     "output_type": "stream",
     "text": [
      "enter maths marks90\n",
      "enter english marks80\n",
      "enter urdu marks70\n",
      "enter physics marks60\n",
      "enter chemistry marks80\n"
     ]
    }
   ],
   "source": [
    "maths = int(input(\"enter maths marks\"))\n",
    "english = int(input(\"enter english marks\"))\n",
    "urdu = int(input(\"enter urdu marks\"))\n",
    "physics = int(input(\"enter physics marks\"))\n",
    "chemistry = int(input(\"enter chemistry marks\"))"
   ]
  },
  {
   "cell_type": "code",
   "execution_count": 15,
   "metadata": {},
   "outputs": [],
   "source": [
    "obtained_marks = maths + english + urdu + physics + chemistry"
   ]
  },
  {
   "cell_type": "code",
   "execution_count": 16,
   "metadata": {},
   "outputs": [],
   "source": [
    "percentage = ((obtained_marks/total_marks)*100)"
   ]
  },
  {
   "cell_type": "code",
   "execution_count": 17,
   "metadata": {},
   "outputs": [],
   "source": [
    "grade = None"
   ]
  },
  {
   "cell_type": "code",
   "execution_count": 21,
   "metadata": {},
   "outputs": [
    {
     "name": "stdout",
     "output_type": "stream",
     "text": [
      "Name : ABC\n",
      "Roll No: 42501\n",
      "Total Marks = 500\n",
      "Obtained Marks = 380\n",
      "percentage is = 76%\n",
      "Grade = B\n"
     ]
    }
   ],
   "source": [
    "My_Name = \"Name : ABC\"\n",
    "Roll_Number = \"Roll No: 42501\"\n",
    "print(My_Name)\n",
    "print(Roll_Number)\n",
    "print(\"Total Marks = \" + str(total_marks))\n",
    "print(\"Obtained Marks = \" + str(obtained_marks))\n",
    "print(\"percentage is = \" + str(int(percentage))+\"%\")\n",
    "if percentage >= 80.0:\n",
    "    grade = \"A\"\n",
    "elif percentage >= 70.0:\n",
    "    grade = \"B\"\n",
    "else:\n",
    "    grade = \"F\"\n",
    "print(\"Grade = \" + grade)"
   ]
  },
  {
   "cell_type": "code",
   "execution_count": null,
   "metadata": {},
   "outputs": [],
   "source": []
  },
  {
   "cell_type": "code",
   "execution_count": null,
   "metadata": {},
   "outputs": [],
   "source": []
  }
 ],
 "metadata": {
  "kernelspec": {
   "display_name": "Python 3",
   "language": "python",
   "name": "python3"
  },
  "language_info": {
   "codemirror_mode": {
    "name": "ipython",
    "version": 3
   },
   "file_extension": ".py",
   "mimetype": "text/x-python",
   "name": "python",
   "nbconvert_exporter": "python",
   "pygments_lexer": "ipython3",
   "version": "3.7.3"
  }
 },
 "nbformat": 4,
 "nbformat_minor": 2
}
